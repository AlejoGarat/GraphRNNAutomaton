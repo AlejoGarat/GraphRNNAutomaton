{
 "cells": [
  {
   "cell_type": "markdown",
   "metadata": {},
   "source": [
    "# GraphRNNAutomaton"
   ]
  },
  {
   "cell_type": "markdown",
   "metadata": {},
   "source": [
    "### Imports"
   ]
  },
  {
   "cell_type": "code",
   "execution_count": null,
   "metadata": {},
   "outputs": [],
   "source": [
    "import time\n",
    "from tqdm import tqdm\n",
    "import wandb\n",
    "import torch\n",
    "import torch.nn as nn\n",
    "import numpy as np\n",
    "from exporter import read_automatas\n",
    "from wandb_utilities import get_wandb_sweep_name, create_sweep\n",
    "from automatonRNN import AutomatonRNN, generate_automatas, unfold_pred\n",
    "from property_validator import validate_property, get_metrics\n",
    "from sklearn.utils import shuffle\n",
    "\n",
    "ENTITY = 'verification_thesis'\n",
    "PROJECT = 'AutomatonRNN'\n",
    "DEVICE = torch.device('cuda:0' if torch.cuda.is_available() else 'cpu')\n",
    "print(DEVICE)"
   ]
  },
  {
   "cell_type": "code",
   "execution_count": null,
   "metadata": {},
   "outputs": [],
   "source": [
    "#If some of the parameters are changed, the sweep must be recreated\n",
    "automata_property = 'unique_accepting'\n",
    "number_of_states = 5\n",
    "alphabet_len = 2"
   ]
  },
  {
   "cell_type": "markdown",
   "metadata": {},
   "source": [
    "### Data"
   ]
  },
  {
   "cell_type": "code",
   "execution_count": null,
   "metadata": {},
   "outputs": [],
   "source": [
    "path = f'./dataset/{number_of_states}_states/{automata_property}_property_automatas'\n",
    "automatas = read_automatas(path)"
   ]
  },
  {
   "cell_type": "code",
   "execution_count": null,
   "metadata": {},
   "outputs": [],
   "source": [
    "def get_batch_graphs(dataset, batch_size):\n",
    "    dataset1, dataset2 = dataset\n",
    "\n",
    "    shuffled_ds1, shuffled_ds2 = shuffle(dataset1, dataset2, random_state=0)\n",
    "\n",
    "    batches1 = [shuffled_ds1[i:min(len(dataset1), i+batch_size)] for i in range(0, len(dataset1), batch_size)]\n",
    "    batches2 = [shuffled_ds2[i:min(len(dataset2), i+batch_size)] for i in range(0, len(dataset2), batch_size)]\n",
    "    return batches1, batches2"
   ]
  },
  {
   "cell_type": "markdown",
   "metadata": {},
   "source": [
    "### Creating Model"
   ]
  },
  {
   "cell_type": "markdown",
   "metadata": {},
   "source": [
    "### Obtaining data from a graph"
   ]
  },
  {
   "cell_type": "code",
   "execution_count": null,
   "metadata": {},
   "outputs": [],
   "source": [
    "padding_symbol = 0\n",
    "def add_padding_to_transitions(graphs):\n",
    "    max_len = max([len(g) for g in graphs])\n",
    "    new_graphs = []\n",
    "    for graph in graphs:\n",
    "        \n",
    "        len_diff = max_len-len(graph)\n",
    "\n",
    "        new_graph = []\n",
    "        padding = np.full(len_diff, padding_symbol)\n",
    "        for row in graph:\n",
    "            new_graph.append(np.concatenate((row, padding)))   \n",
    "\n",
    "        for _ in range(len_diff):\n",
    "            new_graph.append(np.full(max_len, padding_symbol))\n",
    "\n",
    "        new_graphs.append(new_graph)\n",
    "\n",
    "    return np.array(new_graphs)\n",
    "\n",
    "def add_padding_to_final_states(all_final_states):\n",
    "    max_len = max([len(fs) for fs in all_final_states])\n",
    "    padded_final_states = []\n",
    "    for final_states in all_final_states:\n",
    "        len_diff = max_len-len(final_states)\n",
    "        padding = np.full(len_diff, padding_symbol)\n",
    "        padded_final_states.append(np.concatenate((final_states, padding)))\n",
    "    return np.array(padded_final_states)\n",
    "\n",
    "def add_padding_to_graph(transitions, final_states):\n",
    "    return add_padding_to_transitions(transitions), add_padding_to_final_states(final_states)"
   ]
  },
  {
   "cell_type": "code",
   "execution_count": null,
   "metadata": {},
   "outputs": [],
   "source": [
    "def get_target_conns(graphs, node, m):\n",
    "    batch_size = graphs.shape[0]\n",
    "\n",
    "    initial_pos = max(0, node - m)\n",
    "    in_conns = np.array(graphs[:,initial_pos:node,node], dtype=np.float32)\n",
    "    loop_con = np.array(np.expand_dims(graphs[:,node,node],1), dtype=np.float32)\n",
    "    out_conns = np.array(graphs[:,node,initial_pos:node], dtype=np.float32)\n",
    "    \n",
    "    padding_size = max(0, m - node)\n",
    "    padding = np.zeros((batch_size,padding_size),dtype=np.float32)\n",
    "    y_conns = np.concatenate((padding, in_conns, loop_con, out_conns, padding), 1)\n",
    "    return torch.tensor(y_conns, dtype=torch.float32)\n",
    "\n",
    "def get_target_is_final(final_nodes, node):\n",
    "    return torch.tensor(final_nodes[:,node], dtype=torch.float32).unsqueeze(-1)\n",
    "\n",
    "def get_target_is_end(nodes, node):\n",
    "    # we sum 0 to transform bools to int\n",
    "    return torch.tensor((nodes == node) + 0, dtype=torch.float32).unsqueeze(-1)\n",
    "\n",
    "def get_nodes(graphs):\n",
    "    return np.array([len(g) for g in graphs])"
   ]
  },
  {
   "cell_type": "markdown",
   "metadata": {},
   "source": [
    "### Loss function"
   ]
  },
  {
   "cell_type": "code",
   "execution_count": null,
   "metadata": {},
   "outputs": [],
   "source": [
    "def compose_loss(y_hat, y, m, weighted):\n",
    "    conns_hat, final_prob_hat, end_prob_hat = unfold_pred(y_hat, m)\n",
    "    conns, final_prob, end_prob = unfold_pred(y, m)\n",
    "    # Convert to batch and BCE loss for conns\n",
    "    conns_loss = nn.BCELoss()(conns_hat, conns) * (1 if weighted else 1)\n",
    "    # BCE loss for final prob\n",
    "    final_prob_loss = nn.BCELoss()(final_prob_hat, final_prob) * (1.5 if weighted else 1)\n",
    "    # BCE loss for end prob\n",
    "    end_prob_loss = nn.BCELoss()(end_prob_hat, end_prob) * (1 if weighted else 1)\n",
    "\n",
    "    # Total loss us the sum of all losses\n",
    "    return conns_loss + final_prob_loss + end_prob_loss"
   ]
  },
  {
   "cell_type": "markdown",
   "metadata": {},
   "source": [
    "### Training Loop"
   ]
  },
  {
   "cell_type": "code",
   "execution_count": null,
   "metadata": {},
   "outputs": [],
   "source": [
    "def train_model(model, optim, dataset, criterion, epochs, batch_size, gradient_clip, loss_type):\n",
    "    dataset_len = len(dataset[0])\n",
    "    for epoch in tqdm(range(epochs)):\n",
    "        start_time = time.time()\n",
    "        loss_val = 0\n",
    "        all_transitions, all_final_states = get_batch_graphs(dataset, batch_size)\n",
    "        for i, transitions in enumerate(all_transitions):\n",
    "            final_states = all_final_states[i]\n",
    "            bs = len(final_states)\n",
    "\n",
    "            x = model.get_sos(bs)\n",
    "            h = model.get_initial_hidden(bs)\n",
    "\n",
    "            nodes = get_nodes(transitions)\n",
    "            max_node = max(nodes)\n",
    "\n",
    "            padded_transitions, padded_final_states = add_padding_to_graph(transitions, final_states)\n",
    "            all_preds = []\n",
    "            all_y = []\n",
    "            for node in range(max_node):\n",
    "                optim.zero_grad()\n",
    "\n",
    "                # Get targets \n",
    "                y_conns = get_target_conns(padded_transitions, node, model.m)\n",
    "                y_final = get_target_is_final(padded_final_states, node)\n",
    "                y_end = get_target_is_end(nodes, node)\n",
    "                y = torch.cat((y_conns, y_final, y_end), 1)\n",
    "                all_y.append(y.reshape(bs,1,-1))\n",
    "\n",
    "                # Run one iteration of the model\n",
    "                pred, hidden = model(x, h)\n",
    "                all_preds.append(pred.reshape(bs, 1, -1))\n",
    "                # Update hidden and x values for next iteration we use teacher forcing so x is y\n",
    "                h = hidden.reshape(1,bs,-1)\n",
    "                x = y\n",
    "\n",
    "            # Compute the loss function\n",
    "            loss = None\n",
    "            #if loss_type == 'joined':\n",
    "            loss = criterion(torch.cat(all_preds, 1), torch.cat(all_y, 1))\n",
    "            #else:\n",
    "            #    loss = compose_loss(torch.cat(all_preds, 1), torch.cat(all_y, 1), model.m, True)\n",
    "                \n",
    "            loss.backward()\n",
    "\n",
    "            if gradient_clip == 'norm':\n",
    "                torch.nn.utils.clip_grad_norm_(model.parameters(), 1.)\n",
    "            if gradient_clip == 'clip':\n",
    "                torch.nn.utils.clip_grad_value_(model.parameters(), .5)\n",
    "            optim.step()\n",
    "\n",
    "            loss_val += loss.item()\n",
    "\n",
    "        print(f\"Epoch {epoch}, duration: {time.time()-start_time}s -- TRAIN: loss {loss_val/dataset_len}\")\n",
    "        wandb.log({'train_loss': loss_val/dataset_len})\n",
    "                \n",
    "    return model, loss_val/dataset_len"
   ]
  },
  {
   "cell_type": "code",
   "execution_count": null,
   "metadata": {},
   "outputs": [],
   "source": [
    "def run_training():\n",
    "    with wandb.init():\n",
    "        config = wandb.config\n",
    "        \n",
    "        m = config['sliding_window_size']\n",
    "        hidden_dim = config['hidden_dim']\n",
    "        automaton_rnn = AutomatonRNN(m, hidden_dim, config['recurrent_module'], config['weight_init'], \n",
    "                                     config['dropout'], config['mlp_hidden_dim'], config['rnn_input_dim'])\n",
    "        \n",
    "\n",
    "        criterion = nn.BCELoss()\n",
    "\n",
    "        optim = torch.optim.Adam(automaton_rnn.parameters(), lr=config['lr'])\n",
    "\n",
    "        automaton_rnn, final_loss = train_model(automaton_rnn, optim, automatas, criterion, \n",
    "                                                epochs=config['epochs'], batch_size=config['batch_size'],\n",
    "                                                gradient_clip=config['gradient_clip'], loss_type=config['loss_type'])\n",
    "\n",
    "        number_to_generate = 1000\n",
    "        bs_to_generate = 20\n",
    "        generated_automatons = []\n",
    "        for _ in range(0, number_to_generate, bs_to_generate):\n",
    "            generated_automatons = generated_automatons + generate_automatas(automaton_rnn, 5, bs_to_generate, alphabet_len)\n",
    "\n",
    "        results = get_metrics(automata_property, generated_automatons)\n",
    "\n",
    "        print(f'Finished training!!! Final loss: {final_loss} --- Final results: {results}')\n",
    "\n",
    "        wandb.log(results)"
   ]
  },
  {
   "cell_type": "code",
   "execution_count": null,
   "metadata": {},
   "outputs": [],
   "source": [
    "parameters = {\n",
    "    'epochs': {'values': [15, 20, 25]},\n",
    "    'batch_size': {'values': [32, 64, 128]},\n",
    "    'lr': {'values': [.00005, .0002, .001]},\n",
    "    'sliding_window_size': {'values': [3, 5]},\n",
    "    'hidden_dim': {'values': [128, 256, 512, 1024]},\n",
    "    'gradient_clip': {'values': ['clip', 'norm', 'none']},\n",
    "    'loss_type': {'values': ['separated', 'joined']},\n",
    "    'weight_init': {'values': ['none', 'xavier']},\n",
    "    'recurrent_module': {'values': ['GRU', 'RNN']},\n",
    "    'dropout': {'values': [.0, .2, .4]},\n",
    "    'mlp_hidden_dim': {'values': [256, 512]},\n",
    "    'rnn_input_dim': {'values': [32, 64, 128]},\n",
    "}\n",
    "\n",
    "sweep_name = get_wandb_sweep_name(automata_property, number_of_states, alphabet_len)\n",
    "#sweep_id = create_sweep(f'{sweep_name} - w/TF', parameters, 'random', PROJECT, ENTITY)\n",
    "\n",
    "wandb.agent(sweep_id='1stl9ocz', function=run_training, entity=ENTITY, project=PROJECT, count=5)"
   ]
  },
  {
   "cell_type": "code",
   "execution_count": null,
   "metadata": {},
   "outputs": [],
   "source": []
  }
 ],
 "metadata": {
  "kernelspec": {
   "display_name": "Python 3",
   "language": "python",
   "name": "python3"
  },
  "language_info": {
   "codemirror_mode": {
    "name": "ipython",
    "version": 3
   },
   "file_extension": ".py",
   "mimetype": "text/x-python",
   "name": "python",
   "nbconvert_exporter": "python",
   "pygments_lexer": "ipython3",
   "version": "3.9.13"
  }
 },
 "nbformat": 4,
 "nbformat_minor": 2
}
