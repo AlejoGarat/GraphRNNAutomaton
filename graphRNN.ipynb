{
 "cells": [
  {
   "cell_type": "markdown",
   "metadata": {},
   "source": [
    "# GraphRNNAutomaton"
   ]
  },
  {
   "cell_type": "markdown",
   "metadata": {},
   "source": [
    "### Imports"
   ]
  },
  {
   "cell_type": "code",
   "execution_count": 1,
   "metadata": {},
   "outputs": [
    {
     "name": "stdout",
     "output_type": "stream",
     "text": [
      "cuda:0\n"
     ]
    }
   ],
   "source": [
    "import time, tqdm\n",
    "#import wandb\n",
    "import torch\n",
    "import torch.nn as nn\n",
    "import numpy as np\n",
    "import torch.nn.functional as F\n",
    "from torch.nn import RNN, Linear, Dropout \n",
    "from exporter import read_automatas\n",
    "from automata import Automata\n",
    "\n",
    "DEVICE = torch.device('cuda:0' if torch.cuda.is_available() else 'cpu')\n",
    "print(DEVICE)"
   ]
  },
  {
   "cell_type": "markdown",
   "metadata": {},
   "source": [
    "### Data"
   ]
  },
  {
   "cell_type": "code",
   "execution_count": 2,
   "metadata": {},
   "outputs": [],
   "source": [
    "automata_property = 'unique_accepting'"
   ]
  },
  {
   "cell_type": "code",
   "execution_count": 3,
   "metadata": {},
   "outputs": [],
   "source": [
    "path = f'./data/{automata_property}_property_automatas'\n",
    "automatas = read_automatas(path)"
   ]
  },
  {
   "cell_type": "markdown",
   "metadata": {},
   "source": [
    "### Creating Model"
   ]
  },
  {
   "cell_type": "code",
   "execution_count": 4,
   "metadata": {},
   "outputs": [],
   "source": [
    "class EdgeMLP(nn.Module):\n",
    "    def __init__(self, m, input_dim):\n",
    "        super(EdgeMLP, self).__init__()\n",
    "        self.m = m\n",
    "\n",
    "        self.l1 = Linear(in_features=input_dim, out_features=512)\n",
    "        self.l2 = Linear(in_features=512, out_features=256)\n",
    "        self.l3 = Linear(in_features=256, out_features=512)\n",
    "        self.l4 = Linear(in_features=512, out_features=2*m+3)\n",
    "    \n",
    "        self.dropout = Dropout(p=.3)\n",
    "\n",
    "    def forward(self, x):\n",
    "        res = F.sigmoid(self.l1(x))\n",
    "        res = self.dropout(res)\n",
    "        res = F.leaky_relu(self.l2(res), negative_slope=.02)\n",
    "        res = self.dropout(res)\n",
    "        res = F.leaky_relu(self.l3(res), negative_slope=.02)\n",
    "        res = self.dropout(res)\n",
    "        res = F.sigmoid(self.l4(res))\n",
    "\n",
    "        return res"
   ]
  },
  {
   "cell_type": "code",
   "execution_count": 5,
   "metadata": {},
   "outputs": [],
   "source": [
    "class NodeRNN(nn.Module):\n",
    "    def __init__(self, input_dim, hidden_dim, num_layers=1, dropout=0):\n",
    "        super(NodeRNN, self).__init__()\n",
    "        self.hidden_dim = hidden_dim\n",
    "        self.input_dim = input_dim \n",
    "        self.rnn = RNN(input_dim, hidden_dim, num_layers, dropout=dropout)\n",
    "\n",
    "    def forward(self, x, h):\n",
    "        _, h = self.rnn(x, h)\n",
    "        return h[-1]\n",
    "    \n",
    "    def get_sos(self):\n",
    "        return torch.zeros((1,self.input_dim))\n",
    "    \n",
    "    def get_initial_hidden(self):\n",
    "        return torch.zeros((1,self.hidden_dim))"
   ]
  },
  {
   "cell_type": "code",
   "execution_count": 6,
   "metadata": {},
   "outputs": [],
   "source": [
    "class AutomatonRNN(nn.Module):\n",
    "    def __init__(self, m, hidden_dim):\n",
    "        super(AutomatonRNN, self).__init__()\n",
    "        self.m = m\n",
    "        self.node_rnn = NodeRNN(2*m+3, hidden_dim)\n",
    "        self.edge_model = EdgeMLP(m, input_dim=hidden_dim)\n",
    "\n",
    "    def forward(self, x, h):\n",
    "        hidden = self.node_rnn(x, h)\n",
    "        return self.edge_model(hidden), hidden\n",
    "    \n",
    "    def get_sos(self):\n",
    "        return self.node_rnn.get_sos()\n",
    "\n",
    "    def get_initial_hidden(self):\n",
    "        return self.node_rnn.get_initial_hidden()\n",
    "        "
   ]
  },
  {
   "cell_type": "markdown",
   "metadata": {},
   "source": [
    "### Obtaining data from a graph"
   ]
  },
  {
   "cell_type": "code",
   "execution_count": 7,
   "metadata": {},
   "outputs": [],
   "source": [
    "def get_targets(graph, node, m):\n",
    "    y_final = node in graph['final_states']\n",
    "    y_final = torch.tensor([int(y_final)],dtype=torch.float)\n",
    "\n",
    "    initial_pos = max(0, node - m)\n",
    "    in_conns = np.array(graph['transitions'][initial_pos:node,node],dtype=np.float32)\n",
    "    loop_con = np.array([graph['transitions'][node,node]], dtype=np.float32)\n",
    "    out_conns = np.array(graph['transitions'][node,initial_pos:node],dtype=np.float32)\n",
    "    \n",
    "    padding_size = max(0, m - node)\n",
    "    padding = np.zeros(padding_size,dtype=np.float32)\n",
    "    y_conns = torch.tensor(np.concatenate((padding, in_conns, loop_con, out_conns, padding)))\n",
    "    return y_conns, y_final\n",
    "\n",
    "def get_nodes(graph):\n",
    "    return range(len(graph['transitions']))"
   ]
  },
  {
   "cell_type": "code",
   "execution_count": 8,
   "metadata": {},
   "outputs": [],
   "source": [
    "def unfold_pred(res, m):\n",
    "    conns = res[:2*m+1]\n",
    "    final_prob = res[2*m+1]\n",
    "    end_prob = res[2*m+2]\n",
    "    return conns, final_prob, end_prob"
   ]
  },
  {
   "cell_type": "markdown",
   "metadata": {},
   "source": [
    "### Loss function"
   ]
  },
  {
   "cell_type": "code",
   "execution_count": 9,
   "metadata": {},
   "outputs": [],
   "source": [
    "def compose_loss(y_hat, y):\n",
    "    conns_hat, final_prob_hat, end_prob_hat = y_hat\n",
    "    conns, final_prob, end_prob = y\n",
    "    # Convert to batch and BCE loss for conns\n",
    "    conns_loss = nn.BCELoss()(conns_hat, conns)\n",
    "    # BCE loss for final prob\n",
    "    final_prob_loss = nn.BCELoss()(final_prob_hat, final_prob)\n",
    "    # BCE loss for end prob\n",
    "    end_prob_loss = nn.BCELoss()(end_prob_hat, end_prob)\n",
    "\n",
    "    # Total loss us the sum of all losses\n",
    "    return conns_loss + final_prob_loss + end_prob_loss"
   ]
  },
  {
   "cell_type": "markdown",
   "metadata": {},
   "source": [
    "### Training Loop"
   ]
  },
  {
   "cell_type": "code",
   "execution_count": 10,
   "metadata": {},
   "outputs": [],
   "source": [
    "def train_model(model, optim, dataloader, criterion, epochs):\n",
    "    for epoch in range(epochs):\n",
    "        start_time = time.time()\n",
    "        loss_val = 0\n",
    "        for _, graph in tqdm(enumerate(dataloader)):\n",
    "            x = model.get_sos()\n",
    "            h = model.get_initial_hidden()\n",
    "            iter_loss = 0\n",
    "            graph_nodes = get_nodes(graph)\n",
    "            for node in graph_nodes: # CHECK IF X USES BATCH AND IS NOT ONE\n",
    "                # Process the targets of the graph\n",
    "                optim.zero_grad()\n",
    "                y_conns, y_final = get_targets(graph, node, model.m)\n",
    "                y_end = node == (len(graph_nodes)-1)\n",
    "                y_end = torch.tensor([int(y_end)],dtype=torch.float)\n",
    "\n",
    "                # Run one iteration of the model\n",
    "                pred, hidden = model(x, h)\n",
    "                \n",
    "                # Compute the loss function\n",
    "                y = torch.cat((y_conns, y_final, y_end))\n",
    "                loss = criterion(pred, y)\n",
    "                loss.backward(retain_graph=True)\n",
    "                optim.step()\n",
    "\n",
    "                # Update hidden and x values for next iteration\n",
    "                h = hidden.reshape(1,-1).detach().requires_grad_()\n",
    "                x = pred.reshape(1,-1).detach().requires_grad_()\n",
    "\n",
    "                # Add the loss value\n",
    "                iter_loss += loss.item()\n",
    "\n",
    "            loss_val += iter_loss\n",
    "            #wandb.log({'train_loss':iter_loss})\n",
    "        if not epoch%0:\n",
    "            print(f\"Epoch {epoch}, duration: {time.time()-start_time}s -- TRAIN: loss {loss_val/len(dataloader)}\")\n",
    "                \n",
    "    return model, loss_val/len(dataloader)"
   ]
  },
  {
   "cell_type": "markdown",
   "metadata": {},
   "source": [
    "### Wandb"
   ]
  },
  {
   "cell_type": "markdown",
   "metadata": {},
   "source": [
    "### Creating model and optimizer"
   ]
  },
  {
   "cell_type": "code",
   "execution_count": 11,
   "metadata": {},
   "outputs": [],
   "source": [
    "m = 20\n",
    "hidden_dim = 256\n",
    "automaton_rnn = AutomatonRNN(m, hidden_dim)\n",
    "criterion = nn.BCELoss(weight=torch.Tensor(np.ones(2*m+3)*100))\n",
    "\n",
    "optim = torch.optim.Adam(automaton_rnn.parameters(), lr=.002)"
   ]
  },
  {
   "cell_type": "markdown",
   "metadata": {},
   "source": [
    "### Run training!"
   ]
  },
  {
   "cell_type": "code",
   "execution_count": null,
   "metadata": {},
   "outputs": [],
   "source": [
    "automaton_rnn, training_loss = train_model(automaton_rnn, optim, automatas, criterion, epochs=2)"
   ]
  },
  {
   "cell_type": "code",
   "execution_count": null,
   "metadata": {},
   "outputs": [],
   "source": [
    "print(f'Final training loss {training_loss}')"
   ]
  },
  {
   "cell_type": "code",
   "execution_count": 28,
   "metadata": {},
   "outputs": [],
   "source": [
    "class Graph:\n",
    "    def __init__(self):\n",
    "        self.nodes = {}\n",
    "        self.final_nodes = set()\n",
    "        \n",
    "    def add_node(self, node, conns, is_final):\n",
    "        self.nodes[node] = set()\n",
    "        m = (len(conns)-1)//2\n",
    "        in_conns = conns[max(0, m-node):m]\n",
    "        loop_p = float(conns[m])\n",
    "        out_conns = conns[m+1:len(conns)-max(0,m-node)]\n",
    "\n",
    "        for target, p_in in enumerate(in_conns):\n",
    "            p_in = float(p_in)\n",
    "            in_connection = np.random.choice([False, True], p=[1-p_in, p_in])\n",
    "            if in_connection:\n",
    "                self.nodes[target].add(node)\n",
    "\n",
    "            p_out = float(out_conns[target])\n",
    "            out_connection = np.random.choice([False, True], p=[1-p_out, p_out])\n",
    "            if out_connection:\n",
    "                self.nodes[node].add(target)\n",
    "        \n",
    "        loop_connection = np.random.choice([False, True], p=[1-loop_p, loop_p])\n",
    "        if loop_connection:\n",
    "            self.nodes[node].add(node)\n",
    "\n",
    "        if is_final:\n",
    "            self.final_nodes.add(node)"
   ]
  },
  {
   "cell_type": "code",
   "execution_count": 29,
   "metadata": {},
   "outputs": [],
   "source": [
    "def generate(model, max_nodes):\n",
    "    with torch.no_grad():\n",
    "        graph = Graph()\n",
    "        x = model.get_sos()\n",
    "        h = model.get_initial_hidden()\n",
    "        end = False\n",
    "        node = 0\n",
    "        while not end:\n",
    "            x, h = model(x, h)\n",
    "            conns, final_prob, end_prob = unfold_pred(x, model.m)\n",
    "            final_prob = float(final_prob)\n",
    "            is_final = np.random.choice([False, True], p=[1-final_prob, final_prob])\n",
    "            graph.add_node(node, conns, is_final)\n",
    "            end_prob = float(end_prob)\n",
    "            end = np.random.choice([False, True], p=[1-end_prob, end_prob])\n",
    "            node += 1\n",
    "            x = x.reshape(1,-1)\n",
    "            h = h.reshape(1,-1)\n",
    "\n",
    "            if node > max_nodes:\n",
    "                end = True\n",
    "        return graph\n"
   ]
  },
  {
   "cell_type": "code",
   "execution_count": 35,
   "metadata": {},
   "outputs": [],
   "source": [
    "graph = generate(automaton_rnn, 25)"
   ]
  },
  {
   "cell_type": "code",
   "execution_count": 36,
   "metadata": {},
   "outputs": [
    {
     "name": "stdout",
     "output_type": "stream",
     "text": [
      "Final Nodes: set()\n",
      "Nodes: {0: set(), 1: set(), 2: {1, 2}, 3: set(), 4: set(), 5: set(), 6: set(), 7: {6}, 8: {3}}\n"
     ]
    }
   ],
   "source": [
    "print(f'Final Nodes: {graph.final_nodes}')\n",
    "print(f'Nodes: {graph.nodes}')"
   ]
  },
  {
   "cell_type": "code",
   "execution_count": null,
   "metadata": {},
   "outputs": [],
   "source": []
  }
 ],
 "metadata": {
  "kernelspec": {
   "display_name": "Python 3",
   "language": "python",
   "name": "python3"
  },
  "language_info": {
   "codemirror_mode": {
    "name": "ipython",
    "version": 3
   },
   "file_extension": ".py",
   "mimetype": "text/x-python",
   "name": "python",
   "nbconvert_exporter": "python",
   "pygments_lexer": "ipython3",
   "version": "3.10.13"
  }
 },
 "nbformat": 4,
 "nbformat_minor": 2
}
