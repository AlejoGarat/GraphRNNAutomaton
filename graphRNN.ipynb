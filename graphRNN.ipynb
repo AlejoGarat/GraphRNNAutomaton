{
 "cells": [
  {
   "cell_type": "markdown",
   "metadata": {},
   "source": [
    "# GraphRNNAutomaton"
   ]
  },
  {
   "cell_type": "markdown",
   "metadata": {},
   "source": [
    "### Imports"
   ]
  },
  {
   "cell_type": "code",
   "execution_count": 4,
   "metadata": {},
   "outputs": [
    {
     "ename": "ModuleNotFoundError",
     "evalue": "No module named 'wandb'",
     "output_type": "error",
     "traceback": [
      "\u001b[1;31m---------------------------------------------------------------------------\u001b[0m",
      "\u001b[1;31mModuleNotFoundError\u001b[0m                       Traceback (most recent call last)",
      "\u001b[1;32me:\\Juan\\Ort\\Master\\IAGenerativa\\GraphRNNAutomaton\\graphRNN.ipynb Cell 3\u001b[0m line \u001b[0;36m2\n\u001b[0;32m      <a href='vscode-notebook-cell:/e%3A/Juan/Ort/Master/IAGenerativa/GraphRNNAutomaton/graphRNN.ipynb#X12sZmlsZQ%3D%3D?line=0'>1</a>\u001b[0m \u001b[39mimport\u001b[39;00m \u001b[39mtime\u001b[39;00m\u001b[39m,\u001b[39m \u001b[39mtqdm\u001b[39;00m\n\u001b[1;32m----> <a href='vscode-notebook-cell:/e%3A/Juan/Ort/Master/IAGenerativa/GraphRNNAutomaton/graphRNN.ipynb#X12sZmlsZQ%3D%3D?line=1'>2</a>\u001b[0m \u001b[39mimport\u001b[39;00m \u001b[39mwandb\u001b[39;00m\n\u001b[0;32m      <a href='vscode-notebook-cell:/e%3A/Juan/Ort/Master/IAGenerativa/GraphRNNAutomaton/graphRNN.ipynb#X12sZmlsZQ%3D%3D?line=2'>3</a>\u001b[0m \u001b[39mimport\u001b[39;00m \u001b[39mtorch\u001b[39;00m\n\u001b[0;32m      <a href='vscode-notebook-cell:/e%3A/Juan/Ort/Master/IAGenerativa/GraphRNNAutomaton/graphRNN.ipynb#X12sZmlsZQ%3D%3D?line=3'>4</a>\u001b[0m \u001b[39mimport\u001b[39;00m \u001b[39mtorch\u001b[39;00m\u001b[39m.\u001b[39;00m\u001b[39mnn\u001b[39;00m \u001b[39mas\u001b[39;00m \u001b[39mnn\u001b[39;00m\n",
      "\u001b[1;31mModuleNotFoundError\u001b[0m: No module named 'wandb'"
     ]
    }
   ],
   "source": [
    "import time, tqdm\n",
    "import wandb\n",
    "import torch\n",
    "import torch.nn as nn\n",
    "import torch.nn.functional as F\n",
    "from torch.nn import RNN, Linear, Dropout \n",
    "from sklearn.metrics import accuracy_score\n",
    "\n",
    "DEVICE = torch.device('conda:0' if torch.cuda.is_available() else 'cpu')\n"
   ]
  },
  {
   "cell_type": "markdown",
   "metadata": {},
   "source": [
    "### Data"
   ]
  },
  {
   "cell_type": "markdown",
   "metadata": {},
   "source": [
    "### Creating Model"
   ]
  },
  {
   "cell_type": "code",
   "execution_count": null,
   "metadata": {},
   "outputs": [],
   "source": [
    "class EdgeMLP(nn.Module):\n",
    "    def __init__(self, m, input_dim):\n",
    "        self.m = m\n",
    "\n",
    "        self.l1 = Linear(in_features=input_dim, out_features=512)\n",
    "        self.l2 = Linear(in_features=256, out_features=256)\n",
    "        self.l3 = Linear(in_features=256, out_features=512)\n",
    "        self.l4 = Linear(in_features=512, out_features=2m+3)\n",
    "    \n",
    "        self.dropout = Dropout(p=.3)\n",
    "\n",
    "    def forward(self, x):\n",
    "        res = self.sigmoid(self.l1(x))\n",
    "        res = self.dropout(res)\n",
    "        res = F.leaky_relu(self.l2(res), negative_slope=.02)\n",
    "        res = self.dropout(res)\n",
    "        res = F.leaky_relu(self.l3(res), negative_slope=.02)\n",
    "        res = self.dropout(res)\n",
    "        res = F.sigmoid(self.l4(res))\n",
    "\n",
    "        conns = res[:,:2*self.m+1]\n",
    "        final_prob = res[:,2*self.m+1]\n",
    "        end_prob = res[:,2*self.m+2]\n",
    "\n",
    "        return conns, final_prob, end_prob"
   ]
  },
  {
   "cell_type": "code",
   "execution_count": null,
   "metadata": {},
   "outputs": [],
   "source": [
    "class NodeRNN(nn.Module):\n",
    "    def __init__(self, input_dim, hidden_dim, num_layers=1, dropout=0):\n",
    "        super(NodeRNN, self).__init__()\n",
    "        self.hidden_dim = hidden_dim\n",
    "        self.input_dim = input_dim \n",
    "        self.rnn = RNN(input_dim, hidden_dim, num_layers, dropout=dropout)\n",
    "\n",
    "    def forward(self, x, h):\n",
    "        _, h = self.rnn(x, h)\n",
    "        return h[-1]\n",
    "    \n",
    "    def get_initial_hidden(self):\n",
    "        return torch.zeros((1,self.hidden_dim))"
   ]
  },
  {
   "cell_type": "code",
   "execution_count": null,
   "metadata": {},
   "outputs": [],
   "source": [
    "class AutomatonRNN(nn.Module):\n",
    "    def __init__(self, m, hidden_dim):\n",
    "        self.node_rnn = NodeRNN(2m+3, hidden_dim)\n",
    "        self.edge_model = EdgeMLP(m, input_dim=hidden_dim)\n",
    "\n",
    "    def forward(self, x, h):\n",
    "        hidden = self.node_rnn(x, h)\n",
    "        return self.edge_model(hidden), hidden\n",
    "    \n",
    "    def get_initial_hidden(self):\n",
    "        return self.node_rnn.get_initial_hidden()\n",
    "        "
   ]
  },
  {
   "cell_type": "markdown",
   "metadata": {},
   "source": [
    "### Training Loop"
   ]
  },
  {
   "cell_type": "code",
   "execution_count": null,
   "metadata": {},
   "outputs": [],
   "source": [
    "def get_targets(graph, node):\n",
    "    y_conns, y_final, y_end = 0, 0, 0\n",
    "    return y_conns, y_final, y_end"
   ]
  },
  {
   "cell_type": "code",
   "execution_count": null,
   "metadata": {},
   "outputs": [],
   "source": [
    "def train_model(model, criterion, optim, dataloader):\n",
    "    loss_val = 0\n",
    "    for i, graph in enumerate(dataloader):\n",
    "        start_time = time.time()\n",
    "        optim.zero_grad()\n",
    "        x = \"SOS\".to(DEVICE) # Could be get_initial_x()\n",
    "        h = model.get_initial_hidden()\n",
    "        iter_loss = 0\n",
    "        for node in graph.nodes: # CHECK IF X USES BATCH AND IS NOT ONE\n",
    "            # Process the targets of the graph\n",
    "            y_conns, y_final, y_end = get_targets(graph, node)\n",
    "\n",
    "            # Run one iteration of the model\n",
    "            pred, hidden = model(x, h)\n",
    "\n",
    "            # Update hidden and x values for next iteration\n",
    "            h = hidden\n",
    "            x = pred\n",
    "\n",
    "            # Unfold the predictions\n",
    "            conns, final_prob, end_prob = pred\n",
    "            \n",
    "            # Compute the loss function\n",
    "            loss = criterion((conns, final_prob, end_prob), (y_conns, y_final, y_end))\n",
    "\n",
    "            loss.backward()\n",
    "            optim.step()\n",
    "\n",
    "            # Add the loss value\n",
    "            iter_loss += loss.item()\n",
    "\n",
    "        loss_val += iter_loss\n",
    "        #wandb.log({'train_loss':iter_loss})\n",
    "\n",
    "        if not i%5:\n",
    "            print(f\"Iter {i}, duration: {time.time()-start_time}s -- TRAIN: loss {iter_loss}\")\n",
    "                \n",
    "    return model, loss_val/len(dataloader)"
   ]
  },
  {
   "cell_type": "markdown",
   "metadata": {},
   "source": [
    "### Wandb"
   ]
  },
  {
   "cell_type": "markdown",
   "metadata": {},
   "source": [
    "### Training"
   ]
  },
  {
   "cell_type": "markdown",
   "metadata": {},
   "source": []
  }
 ],
 "metadata": {
  "kernelspec": {
   "display_name": "Python 3",
   "language": "python",
   "name": "python3"
  },
  "language_info": {
   "codemirror_mode": {
    "name": "ipython",
    "version": 3
   },
   "file_extension": ".py",
   "mimetype": "text/x-python",
   "name": "python",
   "nbconvert_exporter": "python",
   "pygments_lexer": "ipython3",
   "version": "3.10.13"
  }
 },
 "nbformat": 4,
 "nbformat_minor": 2
}
